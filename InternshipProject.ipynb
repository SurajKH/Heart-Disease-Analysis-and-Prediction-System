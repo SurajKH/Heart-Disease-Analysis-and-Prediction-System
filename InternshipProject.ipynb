{
  "cells": [
    {
      "cell_type": "markdown",
      "metadata": {
        "id": "aPl5SB2LW1t0"
      },
      "source": [
        "**Heart Disease Prediction System**"
      ]
    },
    {
      "cell_type": "code",
      "execution_count": 1,
      "metadata": {
        "id": "MSa3w2DE-lRD"
      },
      "outputs": [],
      "source": [
        "#numpy is a library for adding support for large, multi-dimensional arrays and matrices.\n",
        "#pandas is a library used for data manipulation and analysis\n",
        "#matplotlib is a comprehensive library for creating static, animated, and interactive visualizations in Python.\n",
        "#seaborn is a Python data visualization library based on matplotlib,It provides a high-level interface for drawing attractive and informative statistical graphics.\n",
        "#sklearn features various classification and regression algorithms\n",
        "import numpy as np\n",
        "import pandas as pd\n",
        "import matplotlib.pyplot as plt\n",
        "import seaborn as sns\n",
        "from sklearn import preprocessing\n",
        "from sklearn.metrics import accuracy_score"
      ]
    },
    {
      "cell_type": "code",
      "execution_count": 2,
      "metadata": {
        "id": "-GYE4ZJA-v7S"
      },
      "outputs": [],
      "source": [
        "#Creation of the DataFrame for the required csv file\n",
        "df=pd.read_csv(\"/content/drive/MyDrive/Colab Notebooks/heart.csv\")"
      ]
    },
    {
      "cell_type": "markdown",
      "metadata": {
        "id": "IE9q-qAPXkVs"
      },
      "source": [
        "**Displaying the Entries in the Dataset**"
      ]
    },
    {
      "cell_type": "code",
      "execution_count": 3,
      "metadata": {
        "colab": {
          "base_uri": "https://localhost:8080/",
          "height": 206
        },
        "id": "8-j5uxEU-wb7",
        "outputId": "64aa8b17-3b08-425e-aa72-64554c615f87"
      },
      "outputs": [
        {
          "output_type": "execute_result",
          "data": {
            "text/plain": [
              "   age  sex  cp  trestbps  chol  fbs  restecg  thalach  exang  oldpeak  slope  \\\n",
              "0   52    1   0       125   212    0        1      168      0      1.0      2   \n",
              "1   53    1   0       140   203    1        0      155      1      3.1      0   \n",
              "2   70    1   0       145   174    0        1      125      1      2.6      0   \n",
              "3   61    1   0       148   203    0        1      161      0      0.0      2   \n",
              "4   62    0   0       138   294    1        1      106      0      1.9      1   \n",
              "\n",
              "   ca  thal  target  \n",
              "0   2     3       0  \n",
              "1   0     3       0  \n",
              "2   0     3       0  \n",
              "3   1     3       0  \n",
              "4   3     2       0  "
            ],
            "text/html": [
              "\n",
              "  <div id=\"df-871a5e2f-ea0f-4ece-b52a-d703fe93217c\">\n",
              "    <div class=\"colab-df-container\">\n",
              "      <div>\n",
              "<style scoped>\n",
              "    .dataframe tbody tr th:only-of-type {\n",
              "        vertical-align: middle;\n",
              "    }\n",
              "\n",
              "    .dataframe tbody tr th {\n",
              "        vertical-align: top;\n",
              "    }\n",
              "\n",
              "    .dataframe thead th {\n",
              "        text-align: right;\n",
              "    }\n",
              "</style>\n",
              "<table border=\"1\" class=\"dataframe\">\n",
              "  <thead>\n",
              "    <tr style=\"text-align: right;\">\n",
              "      <th></th>\n",
              "      <th>age</th>\n",
              "      <th>sex</th>\n",
              "      <th>cp</th>\n",
              "      <th>trestbps</th>\n",
              "      <th>chol</th>\n",
              "      <th>fbs</th>\n",
              "      <th>restecg</th>\n",
              "      <th>thalach</th>\n",
              "      <th>exang</th>\n",
              "      <th>oldpeak</th>\n",
              "      <th>slope</th>\n",
              "      <th>ca</th>\n",
              "      <th>thal</th>\n",
              "      <th>target</th>\n",
              "    </tr>\n",
              "  </thead>\n",
              "  <tbody>\n",
              "    <tr>\n",
              "      <th>0</th>\n",
              "      <td>52</td>\n",
              "      <td>1</td>\n",
              "      <td>0</td>\n",
              "      <td>125</td>\n",
              "      <td>212</td>\n",
              "      <td>0</td>\n",
              "      <td>1</td>\n",
              "      <td>168</td>\n",
              "      <td>0</td>\n",
              "      <td>1.0</td>\n",
              "      <td>2</td>\n",
              "      <td>2</td>\n",
              "      <td>3</td>\n",
              "      <td>0</td>\n",
              "    </tr>\n",
              "    <tr>\n",
              "      <th>1</th>\n",
              "      <td>53</td>\n",
              "      <td>1</td>\n",
              "      <td>0</td>\n",
              "      <td>140</td>\n",
              "      <td>203</td>\n",
              "      <td>1</td>\n",
              "      <td>0</td>\n",
              "      <td>155</td>\n",
              "      <td>1</td>\n",
              "      <td>3.1</td>\n",
              "      <td>0</td>\n",
              "      <td>0</td>\n",
              "      <td>3</td>\n",
              "      <td>0</td>\n",
              "    </tr>\n",
              "    <tr>\n",
              "      <th>2</th>\n",
              "      <td>70</td>\n",
              "      <td>1</td>\n",
              "      <td>0</td>\n",
              "      <td>145</td>\n",
              "      <td>174</td>\n",
              "      <td>0</td>\n",
              "      <td>1</td>\n",
              "      <td>125</td>\n",
              "      <td>1</td>\n",
              "      <td>2.6</td>\n",
              "      <td>0</td>\n",
              "      <td>0</td>\n",
              "      <td>3</td>\n",
              "      <td>0</td>\n",
              "    </tr>\n",
              "    <tr>\n",
              "      <th>3</th>\n",
              "      <td>61</td>\n",
              "      <td>1</td>\n",
              "      <td>0</td>\n",
              "      <td>148</td>\n",
              "      <td>203</td>\n",
              "      <td>0</td>\n",
              "      <td>1</td>\n",
              "      <td>161</td>\n",
              "      <td>0</td>\n",
              "      <td>0.0</td>\n",
              "      <td>2</td>\n",
              "      <td>1</td>\n",
              "      <td>3</td>\n",
              "      <td>0</td>\n",
              "    </tr>\n",
              "    <tr>\n",
              "      <th>4</th>\n",
              "      <td>62</td>\n",
              "      <td>0</td>\n",
              "      <td>0</td>\n",
              "      <td>138</td>\n",
              "      <td>294</td>\n",
              "      <td>1</td>\n",
              "      <td>1</td>\n",
              "      <td>106</td>\n",
              "      <td>0</td>\n",
              "      <td>1.9</td>\n",
              "      <td>1</td>\n",
              "      <td>3</td>\n",
              "      <td>2</td>\n",
              "      <td>0</td>\n",
              "    </tr>\n",
              "  </tbody>\n",
              "</table>\n",
              "</div>\n",
              "      <button class=\"colab-df-convert\" onclick=\"convertToInteractive('df-871a5e2f-ea0f-4ece-b52a-d703fe93217c')\"\n",
              "              title=\"Convert this dataframe to an interactive table.\"\n",
              "              style=\"display:none;\">\n",
              "        \n",
              "  <svg xmlns=\"http://www.w3.org/2000/svg\" height=\"24px\"viewBox=\"0 0 24 24\"\n",
              "       width=\"24px\">\n",
              "    <path d=\"M0 0h24v24H0V0z\" fill=\"none\"/>\n",
              "    <path d=\"M18.56 5.44l.94 2.06.94-2.06 2.06-.94-2.06-.94-.94-2.06-.94 2.06-2.06.94zm-11 1L8.5 8.5l.94-2.06 2.06-.94-2.06-.94L8.5 2.5l-.94 2.06-2.06.94zm10 10l.94 2.06.94-2.06 2.06-.94-2.06-.94-.94-2.06-.94 2.06-2.06.94z\"/><path d=\"M17.41 7.96l-1.37-1.37c-.4-.4-.92-.59-1.43-.59-.52 0-1.04.2-1.43.59L10.3 9.45l-7.72 7.72c-.78.78-.78 2.05 0 2.83L4 21.41c.39.39.9.59 1.41.59.51 0 1.02-.2 1.41-.59l7.78-7.78 2.81-2.81c.8-.78.8-2.07 0-2.86zM5.41 20L4 18.59l7.72-7.72 1.47 1.35L5.41 20z\"/>\n",
              "  </svg>\n",
              "      </button>\n",
              "      \n",
              "  <style>\n",
              "    .colab-df-container {\n",
              "      display:flex;\n",
              "      flex-wrap:wrap;\n",
              "      gap: 12px;\n",
              "    }\n",
              "\n",
              "    .colab-df-convert {\n",
              "      background-color: #E8F0FE;\n",
              "      border: none;\n",
              "      border-radius: 50%;\n",
              "      cursor: pointer;\n",
              "      display: none;\n",
              "      fill: #1967D2;\n",
              "      height: 32px;\n",
              "      padding: 0 0 0 0;\n",
              "      width: 32px;\n",
              "    }\n",
              "\n",
              "    .colab-df-convert:hover {\n",
              "      background-color: #E2EBFA;\n",
              "      box-shadow: 0px 1px 2px rgba(60, 64, 67, 0.3), 0px 1px 3px 1px rgba(60, 64, 67, 0.15);\n",
              "      fill: #174EA6;\n",
              "    }\n",
              "\n",
              "    [theme=dark] .colab-df-convert {\n",
              "      background-color: #3B4455;\n",
              "      fill: #D2E3FC;\n",
              "    }\n",
              "\n",
              "    [theme=dark] .colab-df-convert:hover {\n",
              "      background-color: #434B5C;\n",
              "      box-shadow: 0px 1px 3px 1px rgba(0, 0, 0, 0.15);\n",
              "      filter: drop-shadow(0px 1px 2px rgba(0, 0, 0, 0.3));\n",
              "      fill: #FFFFFF;\n",
              "    }\n",
              "  </style>\n",
              "\n",
              "      <script>\n",
              "        const buttonEl =\n",
              "          document.querySelector('#df-871a5e2f-ea0f-4ece-b52a-d703fe93217c button.colab-df-convert');\n",
              "        buttonEl.style.display =\n",
              "          google.colab.kernel.accessAllowed ? 'block' : 'none';\n",
              "\n",
              "        async function convertToInteractive(key) {\n",
              "          const element = document.querySelector('#df-871a5e2f-ea0f-4ece-b52a-d703fe93217c');\n",
              "          const dataTable =\n",
              "            await google.colab.kernel.invokeFunction('convertToInteractive',\n",
              "                                                     [key], {});\n",
              "          if (!dataTable) return;\n",
              "\n",
              "          const docLinkHtml = 'Like what you see? Visit the ' +\n",
              "            '<a target=\"_blank\" href=https://colab.research.google.com/notebooks/data_table.ipynb>data table notebook</a>'\n",
              "            + ' to learn more about interactive tables.';\n",
              "          element.innerHTML = '';\n",
              "          dataTable['output_type'] = 'display_data';\n",
              "          await google.colab.output.renderOutput(dataTable, element);\n",
              "          const docLink = document.createElement('div');\n",
              "          docLink.innerHTML = docLinkHtml;\n",
              "          element.appendChild(docLink);\n",
              "        }\n",
              "      </script>\n",
              "    </div>\n",
              "  </div>\n",
              "  "
            ]
          },
          "metadata": {},
          "execution_count": 3
        }
      ],
      "source": [
        "#Displays the first ten entries of the datasets\n",
        "df.head(n=5)"
      ]
    },
    {
      "cell_type": "code",
      "execution_count": 4,
      "metadata": {
        "colab": {
          "base_uri": "https://localhost:8080/"
        },
        "id": "6o2E5WSSXdbi",
        "outputId": "8f0581a0-f7dd-4ddb-dcf9-de66f74f1a4e"
      },
      "outputs": [
        {
          "output_type": "stream",
          "name": "stderr",
          "text": [
            "/usr/local/lib/python3.7/dist-packages/ipykernel_launcher.py:4: FutureWarning: In a future version of pandas all arguments of DataFrame.drop except for the argument 'labels' will be keyword-only\n",
            "  after removing the cwd from sys.path.\n"
          ]
        }
      ],
      "source": [
        "#Displays the last five entries of the datasets\n",
        "df.tail(n=10)\n",
        "#df.drop(df['ca'], axis = 1)\n",
        "df = df.drop('ca', 1)"
      ]
    },
    {
      "cell_type": "code",
      "execution_count": 5,
      "metadata": {
        "colab": {
          "base_uri": "https://localhost:8080/",
          "height": 740
        },
        "id": "fAdQFXxF_pwi",
        "outputId": "50e3a388-6e36-4e1a-e629-ea233b16ed9f"
      },
      "outputs": [
        {
          "output_type": "execute_result",
          "data": {
            "text/plain": [
              "      Age  Sex  ChestPainType  RestingBP  Cholesterol  FastingBS  RestingECG  \\\n",
              "1005   55    0              0        128          205          0           2   \n",
              "1006   58    1              2        140          211          1           0   \n",
              "1007   56    1              3        120          193          0           0   \n",
              "1008   42    1              1        120          295          0           1   \n",
              "1009   40    1              0        152          223          0           1   \n",
              "1010   51    1              0        140          299          0           1   \n",
              "1011   45    1              1        128          308          0           0   \n",
              "1012   48    1              1        110          229          0           1   \n",
              "1013   58    1              0        114          318          0           2   \n",
              "1014   44    0              2        108          141          0           1   \n",
              "1015   58    1              0        128          216          0           0   \n",
              "1016   65    1              3        138          282          1           0   \n",
              "1017   53    1              0        123          282          0           1   \n",
              "1018   41    1              0        110          172          0           0   \n",
              "1019   47    1              0        112          204          0           1   \n",
              "1020   59    1              1        140          221          0           1   \n",
              "1021   60    1              0        125          258          0           0   \n",
              "1022   47    1              0        110          275          0           0   \n",
              "1023   50    0              0        110          254          0           0   \n",
              "1024   54    1              0        120          188          0           1   \n",
              "\n",
              "      MaxHR  ExecrciseAngina  Oldpeak  ST_Slope  thal  HeartDisease  \n",
              "1005    130                1      2.0         1     3             0  \n",
              "1006    165                0      0.0         2     2             1  \n",
              "1007    162                0      1.9         1     3             1  \n",
              "1008    162                0      0.0         2     2             1  \n",
              "1009    181                0      0.0         2     3             0  \n",
              "1010    173                1      1.6         2     3             0  \n",
              "1011    170                0      0.0         2     2             1  \n",
              "1012    168                0      1.0         0     3             0  \n",
              "1013    140                0      4.4         0     1             0  \n",
              "1014    175                0      0.6         1     2             1  \n",
              "1015    131                1      2.2         1     3             0  \n",
              "1016    174                0      1.4         1     2             0  \n",
              "1017     95                1      2.0         1     3             0  \n",
              "1018    158                0      0.0         2     3             0  \n",
              "1019    143                0      0.1         2     2             1  \n",
              "1020    164                1      0.0         2     2             1  \n",
              "1021    141                1      2.8         1     3             0  \n",
              "1022    118                1      1.0         1     2             0  \n",
              "1023    159                0      0.0         2     2             1  \n",
              "1024    113                0      1.4         1     3             0  "
            ],
            "text/html": [
              "\n",
              "  <div id=\"df-ec8eb4b9-13de-4663-b640-cfbfc4b3ffe3\">\n",
              "    <div class=\"colab-df-container\">\n",
              "      <div>\n",
              "<style scoped>\n",
              "    .dataframe tbody tr th:only-of-type {\n",
              "        vertical-align: middle;\n",
              "    }\n",
              "\n",
              "    .dataframe tbody tr th {\n",
              "        vertical-align: top;\n",
              "    }\n",
              "\n",
              "    .dataframe thead th {\n",
              "        text-align: right;\n",
              "    }\n",
              "</style>\n",
              "<table border=\"1\" class=\"dataframe\">\n",
              "  <thead>\n",
              "    <tr style=\"text-align: right;\">\n",
              "      <th></th>\n",
              "      <th>Age</th>\n",
              "      <th>Sex</th>\n",
              "      <th>ChestPainType</th>\n",
              "      <th>RestingBP</th>\n",
              "      <th>Cholesterol</th>\n",
              "      <th>FastingBS</th>\n",
              "      <th>RestingECG</th>\n",
              "      <th>MaxHR</th>\n",
              "      <th>ExecrciseAngina</th>\n",
              "      <th>Oldpeak</th>\n",
              "      <th>ST_Slope</th>\n",
              "      <th>thal</th>\n",
              "      <th>HeartDisease</th>\n",
              "    </tr>\n",
              "  </thead>\n",
              "  <tbody>\n",
              "    <tr>\n",
              "      <th>1005</th>\n",
              "      <td>55</td>\n",
              "      <td>0</td>\n",
              "      <td>0</td>\n",
              "      <td>128</td>\n",
              "      <td>205</td>\n",
              "      <td>0</td>\n",
              "      <td>2</td>\n",
              "      <td>130</td>\n",
              "      <td>1</td>\n",
              "      <td>2.0</td>\n",
              "      <td>1</td>\n",
              "      <td>3</td>\n",
              "      <td>0</td>\n",
              "    </tr>\n",
              "    <tr>\n",
              "      <th>1006</th>\n",
              "      <td>58</td>\n",
              "      <td>1</td>\n",
              "      <td>2</td>\n",
              "      <td>140</td>\n",
              "      <td>211</td>\n",
              "      <td>1</td>\n",
              "      <td>0</td>\n",
              "      <td>165</td>\n",
              "      <td>0</td>\n",
              "      <td>0.0</td>\n",
              "      <td>2</td>\n",
              "      <td>2</td>\n",
              "      <td>1</td>\n",
              "    </tr>\n",
              "    <tr>\n",
              "      <th>1007</th>\n",
              "      <td>56</td>\n",
              "      <td>1</td>\n",
              "      <td>3</td>\n",
              "      <td>120</td>\n",
              "      <td>193</td>\n",
              "      <td>0</td>\n",
              "      <td>0</td>\n",
              "      <td>162</td>\n",
              "      <td>0</td>\n",
              "      <td>1.9</td>\n",
              "      <td>1</td>\n",
              "      <td>3</td>\n",
              "      <td>1</td>\n",
              "    </tr>\n",
              "    <tr>\n",
              "      <th>1008</th>\n",
              "      <td>42</td>\n",
              "      <td>1</td>\n",
              "      <td>1</td>\n",
              "      <td>120</td>\n",
              "      <td>295</td>\n",
              "      <td>0</td>\n",
              "      <td>1</td>\n",
              "      <td>162</td>\n",
              "      <td>0</td>\n",
              "      <td>0.0</td>\n",
              "      <td>2</td>\n",
              "      <td>2</td>\n",
              "      <td>1</td>\n",
              "    </tr>\n",
              "    <tr>\n",
              "      <th>1009</th>\n",
              "      <td>40</td>\n",
              "      <td>1</td>\n",
              "      <td>0</td>\n",
              "      <td>152</td>\n",
              "      <td>223</td>\n",
              "      <td>0</td>\n",
              "      <td>1</td>\n",
              "      <td>181</td>\n",
              "      <td>0</td>\n",
              "      <td>0.0</td>\n",
              "      <td>2</td>\n",
              "      <td>3</td>\n",
              "      <td>0</td>\n",
              "    </tr>\n",
              "    <tr>\n",
              "      <th>1010</th>\n",
              "      <td>51</td>\n",
              "      <td>1</td>\n",
              "      <td>0</td>\n",
              "      <td>140</td>\n",
              "      <td>299</td>\n",
              "      <td>0</td>\n",
              "      <td>1</td>\n",
              "      <td>173</td>\n",
              "      <td>1</td>\n",
              "      <td>1.6</td>\n",
              "      <td>2</td>\n",
              "      <td>3</td>\n",
              "      <td>0</td>\n",
              "    </tr>\n",
              "    <tr>\n",
              "      <th>1011</th>\n",
              "      <td>45</td>\n",
              "      <td>1</td>\n",
              "      <td>1</td>\n",
              "      <td>128</td>\n",
              "      <td>308</td>\n",
              "      <td>0</td>\n",
              "      <td>0</td>\n",
              "      <td>170</td>\n",
              "      <td>0</td>\n",
              "      <td>0.0</td>\n",
              "      <td>2</td>\n",
              "      <td>2</td>\n",
              "      <td>1</td>\n",
              "    </tr>\n",
              "    <tr>\n",
              "      <th>1012</th>\n",
              "      <td>48</td>\n",
              "      <td>1</td>\n",
              "      <td>1</td>\n",
              "      <td>110</td>\n",
              "      <td>229</td>\n",
              "      <td>0</td>\n",
              "      <td>1</td>\n",
              "      <td>168</td>\n",
              "      <td>0</td>\n",
              "      <td>1.0</td>\n",
              "      <td>0</td>\n",
              "      <td>3</td>\n",
              "      <td>0</td>\n",
              "    </tr>\n",
              "    <tr>\n",
              "      <th>1013</th>\n",
              "      <td>58</td>\n",
              "      <td>1</td>\n",
              "      <td>0</td>\n",
              "      <td>114</td>\n",
              "      <td>318</td>\n",
              "      <td>0</td>\n",
              "      <td>2</td>\n",
              "      <td>140</td>\n",
              "      <td>0</td>\n",
              "      <td>4.4</td>\n",
              "      <td>0</td>\n",
              "      <td>1</td>\n",
              "      <td>0</td>\n",
              "    </tr>\n",
              "    <tr>\n",
              "      <th>1014</th>\n",
              "      <td>44</td>\n",
              "      <td>0</td>\n",
              "      <td>2</td>\n",
              "      <td>108</td>\n",
              "      <td>141</td>\n",
              "      <td>0</td>\n",
              "      <td>1</td>\n",
              "      <td>175</td>\n",
              "      <td>0</td>\n",
              "      <td>0.6</td>\n",
              "      <td>1</td>\n",
              "      <td>2</td>\n",
              "      <td>1</td>\n",
              "    </tr>\n",
              "    <tr>\n",
              "      <th>1015</th>\n",
              "      <td>58</td>\n",
              "      <td>1</td>\n",
              "      <td>0</td>\n",
              "      <td>128</td>\n",
              "      <td>216</td>\n",
              "      <td>0</td>\n",
              "      <td>0</td>\n",
              "      <td>131</td>\n",
              "      <td>1</td>\n",
              "      <td>2.2</td>\n",
              "      <td>1</td>\n",
              "      <td>3</td>\n",
              "      <td>0</td>\n",
              "    </tr>\n",
              "    <tr>\n",
              "      <th>1016</th>\n",
              "      <td>65</td>\n",
              "      <td>1</td>\n",
              "      <td>3</td>\n",
              "      <td>138</td>\n",
              "      <td>282</td>\n",
              "      <td>1</td>\n",
              "      <td>0</td>\n",
              "      <td>174</td>\n",
              "      <td>0</td>\n",
              "      <td>1.4</td>\n",
              "      <td>1</td>\n",
              "      <td>2</td>\n",
              "      <td>0</td>\n",
              "    </tr>\n",
              "    <tr>\n",
              "      <th>1017</th>\n",
              "      <td>53</td>\n",
              "      <td>1</td>\n",
              "      <td>0</td>\n",
              "      <td>123</td>\n",
              "      <td>282</td>\n",
              "      <td>0</td>\n",
              "      <td>1</td>\n",
              "      <td>95</td>\n",
              "      <td>1</td>\n",
              "      <td>2.0</td>\n",
              "      <td>1</td>\n",
              "      <td>3</td>\n",
              "      <td>0</td>\n",
              "    </tr>\n",
              "    <tr>\n",
              "      <th>1018</th>\n",
              "      <td>41</td>\n",
              "      <td>1</td>\n",
              "      <td>0</td>\n",
              "      <td>110</td>\n",
              "      <td>172</td>\n",
              "      <td>0</td>\n",
              "      <td>0</td>\n",
              "      <td>158</td>\n",
              "      <td>0</td>\n",
              "      <td>0.0</td>\n",
              "      <td>2</td>\n",
              "      <td>3</td>\n",
              "      <td>0</td>\n",
              "    </tr>\n",
              "    <tr>\n",
              "      <th>1019</th>\n",
              "      <td>47</td>\n",
              "      <td>1</td>\n",
              "      <td>0</td>\n",
              "      <td>112</td>\n",
              "      <td>204</td>\n",
              "      <td>0</td>\n",
              "      <td>1</td>\n",
              "      <td>143</td>\n",
              "      <td>0</td>\n",
              "      <td>0.1</td>\n",
              "      <td>2</td>\n",
              "      <td>2</td>\n",
              "      <td>1</td>\n",
              "    </tr>\n",
              "    <tr>\n",
              "      <th>1020</th>\n",
              "      <td>59</td>\n",
              "      <td>1</td>\n",
              "      <td>1</td>\n",
              "      <td>140</td>\n",
              "      <td>221</td>\n",
              "      <td>0</td>\n",
              "      <td>1</td>\n",
              "      <td>164</td>\n",
              "      <td>1</td>\n",
              "      <td>0.0</td>\n",
              "      <td>2</td>\n",
              "      <td>2</td>\n",
              "      <td>1</td>\n",
              "    </tr>\n",
              "    <tr>\n",
              "      <th>1021</th>\n",
              "      <td>60</td>\n",
              "      <td>1</td>\n",
              "      <td>0</td>\n",
              "      <td>125</td>\n",
              "      <td>258</td>\n",
              "      <td>0</td>\n",
              "      <td>0</td>\n",
              "      <td>141</td>\n",
              "      <td>1</td>\n",
              "      <td>2.8</td>\n",
              "      <td>1</td>\n",
              "      <td>3</td>\n",
              "      <td>0</td>\n",
              "    </tr>\n",
              "    <tr>\n",
              "      <th>1022</th>\n",
              "      <td>47</td>\n",
              "      <td>1</td>\n",
              "      <td>0</td>\n",
              "      <td>110</td>\n",
              "      <td>275</td>\n",
              "      <td>0</td>\n",
              "      <td>0</td>\n",
              "      <td>118</td>\n",
              "      <td>1</td>\n",
              "      <td>1.0</td>\n",
              "      <td>1</td>\n",
              "      <td>2</td>\n",
              "      <td>0</td>\n",
              "    </tr>\n",
              "    <tr>\n",
              "      <th>1023</th>\n",
              "      <td>50</td>\n",
              "      <td>0</td>\n",
              "      <td>0</td>\n",
              "      <td>110</td>\n",
              "      <td>254</td>\n",
              "      <td>0</td>\n",
              "      <td>0</td>\n",
              "      <td>159</td>\n",
              "      <td>0</td>\n",
              "      <td>0.0</td>\n",
              "      <td>2</td>\n",
              "      <td>2</td>\n",
              "      <td>1</td>\n",
              "    </tr>\n",
              "    <tr>\n",
              "      <th>1024</th>\n",
              "      <td>54</td>\n",
              "      <td>1</td>\n",
              "      <td>0</td>\n",
              "      <td>120</td>\n",
              "      <td>188</td>\n",
              "      <td>0</td>\n",
              "      <td>1</td>\n",
              "      <td>113</td>\n",
              "      <td>0</td>\n",
              "      <td>1.4</td>\n",
              "      <td>1</td>\n",
              "      <td>3</td>\n",
              "      <td>0</td>\n",
              "    </tr>\n",
              "  </tbody>\n",
              "</table>\n",
              "</div>\n",
              "      <button class=\"colab-df-convert\" onclick=\"convertToInteractive('df-ec8eb4b9-13de-4663-b640-cfbfc4b3ffe3')\"\n",
              "              title=\"Convert this dataframe to an interactive table.\"\n",
              "              style=\"display:none;\">\n",
              "        \n",
              "  <svg xmlns=\"http://www.w3.org/2000/svg\" height=\"24px\"viewBox=\"0 0 24 24\"\n",
              "       width=\"24px\">\n",
              "    <path d=\"M0 0h24v24H0V0z\" fill=\"none\"/>\n",
              "    <path d=\"M18.56 5.44l.94 2.06.94-2.06 2.06-.94-2.06-.94-.94-2.06-.94 2.06-2.06.94zm-11 1L8.5 8.5l.94-2.06 2.06-.94-2.06-.94L8.5 2.5l-.94 2.06-2.06.94zm10 10l.94 2.06.94-2.06 2.06-.94-2.06-.94-.94-2.06-.94 2.06-2.06.94z\"/><path d=\"M17.41 7.96l-1.37-1.37c-.4-.4-.92-.59-1.43-.59-.52 0-1.04.2-1.43.59L10.3 9.45l-7.72 7.72c-.78.78-.78 2.05 0 2.83L4 21.41c.39.39.9.59 1.41.59.51 0 1.02-.2 1.41-.59l7.78-7.78 2.81-2.81c.8-.78.8-2.07 0-2.86zM5.41 20L4 18.59l7.72-7.72 1.47 1.35L5.41 20z\"/>\n",
              "  </svg>\n",
              "      </button>\n",
              "      \n",
              "  <style>\n",
              "    .colab-df-container {\n",
              "      display:flex;\n",
              "      flex-wrap:wrap;\n",
              "      gap: 12px;\n",
              "    }\n",
              "\n",
              "    .colab-df-convert {\n",
              "      background-color: #E8F0FE;\n",
              "      border: none;\n",
              "      border-radius: 50%;\n",
              "      cursor: pointer;\n",
              "      display: none;\n",
              "      fill: #1967D2;\n",
              "      height: 32px;\n",
              "      padding: 0 0 0 0;\n",
              "      width: 32px;\n",
              "    }\n",
              "\n",
              "    .colab-df-convert:hover {\n",
              "      background-color: #E2EBFA;\n",
              "      box-shadow: 0px 1px 2px rgba(60, 64, 67, 0.3), 0px 1px 3px 1px rgba(60, 64, 67, 0.15);\n",
              "      fill: #174EA6;\n",
              "    }\n",
              "\n",
              "    [theme=dark] .colab-df-convert {\n",
              "      background-color: #3B4455;\n",
              "      fill: #D2E3FC;\n",
              "    }\n",
              "\n",
              "    [theme=dark] .colab-df-convert:hover {\n",
              "      background-color: #434B5C;\n",
              "      box-shadow: 0px 1px 3px 1px rgba(0, 0, 0, 0.15);\n",
              "      filter: drop-shadow(0px 1px 2px rgba(0, 0, 0, 0.3));\n",
              "      fill: #FFFFFF;\n",
              "    }\n",
              "  </style>\n",
              "\n",
              "      <script>\n",
              "        const buttonEl =\n",
              "          document.querySelector('#df-ec8eb4b9-13de-4663-b640-cfbfc4b3ffe3 button.colab-df-convert');\n",
              "        buttonEl.style.display =\n",
              "          google.colab.kernel.accessAllowed ? 'block' : 'none';\n",
              "\n",
              "        async function convertToInteractive(key) {\n",
              "          const element = document.querySelector('#df-ec8eb4b9-13de-4663-b640-cfbfc4b3ffe3');\n",
              "          const dataTable =\n",
              "            await google.colab.kernel.invokeFunction('convertToInteractive',\n",
              "                                                     [key], {});\n",
              "          if (!dataTable) return;\n",
              "\n",
              "          const docLinkHtml = 'Like what you see? Visit the ' +\n",
              "            '<a target=\"_blank\" href=https://colab.research.google.com/notebooks/data_table.ipynb>data table notebook</a>'\n",
              "            + ' to learn more about interactive tables.';\n",
              "          element.innerHTML = '';\n",
              "          dataTable['output_type'] = 'display_data';\n",
              "          await google.colab.output.renderOutput(dataTable, element);\n",
              "          const docLink = document.createElement('div');\n",
              "          docLink.innerHTML = docLinkHtml;\n",
              "          element.appendChild(docLink);\n",
              "        }\n",
              "      </script>\n",
              "    </div>\n",
              "  </div>\n",
              "  "
            ]
          },
          "metadata": {},
          "execution_count": 5
        }
      ],
      "source": [
        "#label encoding for the columns sex,st_slope,chestpaintype\n",
        "# label_encoder=preprocessing.LabelEncoder();\n",
        "# #trasforming columns to store numerical data\n",
        "# df['Sex']=label_encoder.fit_transform(df['Sex'])\n",
        "# df['ChestPainType']=label_encoder.fit_transform(df['ChestPainType'])\n",
        "# df['RestingECG']=label_encoder.fit_transform(df['RestingECG'])\n",
        "# df['ExerciseAngina']=label_encoder.fit_transform(df['ExerciseAngina'])\n",
        "# df['ST_Slope']=label_encoder.fit_transform(df['ST_Slope'])\n",
        "# df\n",
        "#df = df.drop('thal', 1)\n",
        "#df\n",
        "df.rename(columns = {'age':'Age','sex':'Sex','cp':'ChestPainType',\n",
        "                     'trestbps':'RestingBP','chol':'Cholesterol','fbs':'FastingBS','restecg':'RestingECG'\n",
        "                    ,'thalach':'MaxHR','exang':'ExecrciseAngina','oldpeak':'Oldpeak','slope':'ST_Slope','target':'HeartDisease'}, inplace = True)\n",
        "df.tail(n=20)"
      ]
    },
    {
      "cell_type": "markdown",
      "metadata": {
        "id": "bfz-UEV0ZVNB"
      },
      "source": [
        "**Various Types of Graphs For Categorical Data in the DataSet**"
      ]
    },
    {
      "cell_type": "markdown",
      "metadata": {
        "id": "cJ0l8YM_pnj5"
      },
      "source": [
        "**HistogramPlot Using MathPlotLib Library**"
      ]
    },
    {
      "cell_type": "code",
      "execution_count": 6,
      "metadata": {
        "colab": {
          "base_uri": "https://localhost:8080/",
          "height": 265
        },
        "id": "T2BuFTAeTysL",
        "outputId": "c6a6aa71-bde0-4e8d-f59f-e4dacdf5fa43"
      },
      "outputs": [
        {
          "output_type": "display_data",
          "data": {
            "text/plain": [
              "<Figure size 432x288 with 1 Axes>"
            ],
            "image/png": "[encoded data removed]"
          },
          "metadata": {
            "needs_background": "light"
          }
        }
      ],
      "source": [
        "#hisdtogram for Age column present in the Dataset\n",
        "#plt.hist?\n",
        "plt.hist(df['Age'])\n",
        "plt.show()"
      ]
    },
    {
      "cell_type": "code",
      "execution_count": 7,
      "metadata": {
        "colab": {
          "base_uri": "https://localhost:8080/",
          "height": 265
        },
        "id": "OZzbXMgHcavA",
        "outputId": "92502af8-18e7-4c44-dc6d-cf39bb3593ec"
      },
      "outputs": [
        {
          "output_type": "display_data",
          "data": {
            "text/plain": [
              "<Figure size 432x288 with 1 Axes>"
            ],
            "image/png": "[encoded data removed]"
          },
          "metadata": {
            "needs_background": "light"
          }
        }
      ],
      "source": [
        "#histogram for all the ChestPainType in the datasets\n",
        "plt.hist(df['ChestPainType'])\n",
        "plt.show()"
      ]
    },
    {
      "cell_type": "markdown",
      "metadata": {
        "id": "7eDs9aBVpu85"
      },
      "source": [
        "**BarPlot Using MathPlotLib Library**"
      ]
    },
    {
      "cell_type": "code",
      "execution_count": 8,
      "metadata": {
        "colab": {
          "base_uri": "https://localhost:8080/",
          "height": 350
        },
        "id": "S91tXc_W_-xz",
        "outputId": "a4bd0e65-0127-4ccd-e1ff-a1620bf07286"
      },
      "outputs": [
        {
          "output_type": "display_data",
          "data": {
            "text/plain": [
              "<Figure size 504x360 with 1 Axes>"
            ],
            "image/png": "[encoded data removed]"
          },
          "metadata": {
            "needs_background": "light"
          }
        }
      ],
      "source": [
        "# bar plot between ChestPainType and Cholesterol\n",
        "fig = plt.figure(figsize = (7,5))\n",
        "plt.bar(df['ChestPainType'],df['Cholesterol'], color ='maroon',\n",
        "        width = 0.4)\n",
        " \n",
        "plt.xlabel(\"ChestPainType\")\n",
        "plt.ylabel(\"Cholesterol\")\n",
        "plt.title(\"Plot between ChestPainType and Cholesterol\")\n",
        "plt.show()"
      ]
    },
    {
      "cell_type": "code",
      "execution_count": 9,
      "metadata": {
        "colab": {
          "base_uri": "https://localhost:8080/",
          "height": 351
        },
        "id": "_5QPh5ahAOEV",
        "outputId": "9123f94d-8712-4f91-e1d6-50850152d7ea"
      },
      "outputs": [
        {
          "output_type": "stream",
          "name": "stderr",
          "text": [
            "/usr/local/lib/python3.7/dist-packages/seaborn/_decorators.py:43: FutureWarning: Pass the following variable as a keyword arg: x. From version 0.12, the only valid positional argument will be `data`, and passing other arguments without an explicit keyword will result in an error or misinterpretation.\n",
            "  FutureWarning\n"
          ]
        },
        {
          "output_type": "display_data",
          "data": {
            "text/plain": [
              "<Figure size 432x288 with 1 Axes>"
            ],
            "image/png": "[encoded data removed]"
          },
          "metadata": {
            "needs_background": "light"
          }
        }
      ],
      "source": [
        "#countplot for ChestPainType and Sex\n",
        "#[0,1,2,3]-[ASY,ATA,NAP,TA]\n",
        "sns.countplot('ChestPainType',data=df,hue='Sex')\n",
        "plt.title('CountPlot for ChestPainType and Sex Column')\n",
        "plt.show()"
      ]
    },
    {
      "cell_type": "markdown",
      "metadata": {
        "id": "8isBqpWgpzFX"
      },
      "source": [
        "**CountPlot using Seaborn Library**"
      ]
    },
    {
      "cell_type": "code",
      "execution_count": 10,
      "metadata": {
        "colab": {
          "base_uri": "https://localhost:8080/",
          "height": 351
        },
        "id": "rIvAS8amCy9c",
        "outputId": "35c7b3cc-7881-42af-d2bc-418ebc9e8d5f"
      },
      "outputs": [
        {
          "output_type": "stream",
          "name": "stderr",
          "text": [
            "/usr/local/lib/python3.7/dist-packages/seaborn/_decorators.py:43: FutureWarning: Pass the following variable as a keyword arg: x. From version 0.12, the only valid positional argument will be `data`, and passing other arguments without an explicit keyword will result in an error or misinterpretation.\n",
            "  FutureWarning\n"
          ]
        },
        {
          "output_type": "display_data",
          "data": {
            "text/plain": [
              "<Figure size 432x288 with 1 Axes>"
            ],
            "image/png": "[encoded data removed]"
          },
          "metadata": {
            "needs_background": "light"
          }
        }
      ],
      "source": [
        "#count plots for RestingECG,ST_Slope\n",
        "#RestingECG\n",
        "#[0,1,2]=['LVH','Normal','ST']\n",
        "sns.countplot('RestingECG',data=df,hue='ST_Slope')\n",
        "plt.title('CountPlot for RestingEcg Column')\n",
        "plt.show()"
      ]
    },
    {
      "cell_type": "markdown",
      "metadata": {
        "id": "UoxF8YKrp4-Z"
      },
      "source": [
        "**Cleaned Dataset**"
      ]
    },
    {
      "cell_type": "code",
      "execution_count": 11,
      "metadata": {
        "colab": {
          "base_uri": "https://localhost:8080/"
        },
        "id": "q8TiVgP6D5Pn",
        "outputId": "f1c170c4-651b-476f-bdfa-1e123abbb18b"
      },
      "outputs": [
        {
          "output_type": "execute_result",
          "data": {
            "text/plain": [
              "Age                0\n",
              "Sex                0\n",
              "ChestPainType      0\n",
              "RestingBP          0\n",
              "Cholesterol        0\n",
              "FastingBS          0\n",
              "RestingECG         0\n",
              "MaxHR              0\n",
              "ExecrciseAngina    0\n",
              "Oldpeak            0\n",
              "ST_Slope           0\n",
              "thal               0\n",
              "HeartDisease       0\n",
              "dtype: int64"
            ]
          },
          "metadata": {},
          "execution_count": 11
        }
      ],
      "source": [
        "df.isnull().sum()\n",
        "#we have a clean dataset without any null values\n",
        "#clean dataset would generate and predict results in a very precise manner."
      ]
    },
    {
      "cell_type": "markdown",
      "metadata": {
        "id": "Dc1dd6WYqBJt"
      },
      "source": [
        "**CatPlot Using Seaborn Library**"
      ]
    },
    {
      "cell_type": "code",
      "execution_count": 12,
      "metadata": {
        "colab": {
          "base_uri": "https://localhost:8080/",
          "height": 385
        },
        "id": "HoxANN6DEA5Z",
        "outputId": "0cef1711-6805-4407-fa07-1ac1b8d86f2f"
      },
      "outputs": [
        {
          "output_type": "display_data",
          "data": {
            "text/plain": [
              "<Figure size 402.375x360 with 1 Axes>"
            ],
            "image/png": "[encoded data removed]"
          },
          "metadata": {
            "needs_background": "light"
          }
        }
      ],
      "source": [
        "#catplo ST_Slope and Sex as hue\n",
        "sns.catplot(x=\"ST_Slope\",kind=\"count\",hue=\"Sex\",data=df)\n",
        "plt.title('CatPlot for ST_Slope')\n",
        "plt.show()"
      ]
    },
    {
      "cell_type": "code",
      "execution_count": 13,
      "metadata": {
        "colab": {
          "base_uri": "https://localhost:8080/",
          "height": 387
        },
        "id": "uiCAqwqn35G8",
        "outputId": "db13eaa4-ac60-4fff-e17a-be1077d6a5fd"
      },
      "outputs": [
        {
          "output_type": "execute_result",
          "data": {
            "text/plain": [
              "<seaborn.axisgrid.FacetGrid at 0x7f372ebf9050>"
            ]
          },
          "metadata": {},
          "execution_count": 13
        },
        {
          "output_type": "display_data",
          "data": {
            "text/plain": [
              "<Figure size 435.25x360 with 1 Axes>"
            ],
            "image/png": "[encoded data removed]"
          },
          "metadata": {
            "needs_background": "light"
          }
        }
      ],
      "source": [
        "#sns.catplot(x=\"Cholesterol\",kind=\"count\",hue=\"Sex\",data=df)\n",
        "#heart disease vs cholestrol\n",
        "# y=df['HeartDisease']\n",
        "# x=df['Cholesterol']\n",
        "# plt.scatter(x, y)\n",
        "# plt.show()\n",
        "sns.catplot(x=\"ChestPainType\",kind=\"count\",hue=\"HeartDisease\",data=df)"
      ]
    },
    {
      "cell_type": "code",
      "execution_count": 14,
      "metadata": {
        "colab": {
          "base_uri": "https://localhost:8080/",
          "height": 387
        },
        "id": "3rDGzDeKJX8Q",
        "outputId": "a83896ba-46a0-4c20-9c75-f4996a64260d"
      },
      "outputs": [
        {
          "output_type": "execute_result",
          "data": {
            "text/plain": [
              "<seaborn.axisgrid.FacetGrid at 0x7f3730de6bd0>"
            ]
          },
          "metadata": {},
          "execution_count": 14
        },
        {
          "output_type": "display_data",
          "data": {
            "text/plain": [
              "<Figure size 435.25x360 with 1 Axes>"
            ],
            "image/png": "[encoded data removed]"
          },
          "metadata": {
            "needs_background": "light"
          }
        }
      ],
      "source": [
        "sns.catplot(x=\"Sex\",kind=\"count\",hue=\"HeartDisease\",data=df)"
      ]
    },
    {
      "cell_type": "code",
      "execution_count": 15,
      "metadata": {
        "colab": {
          "base_uri": "https://localhost:8080/",
          "height": 352
        },
        "id": "Ix8vnuDLJli4",
        "outputId": "7be8e18a-565f-44aa-ae57-76d79582dbee"
      },
      "outputs": [
        {
          "output_type": "stream",
          "name": "stderr",
          "text": [
            "/usr/local/lib/python3.7/dist-packages/seaborn/distributions.py:2619: FutureWarning: `distplot` is a deprecated function and will be removed in a future version. Please adapt your code to use either `displot` (a figure-level function with similar flexibility) or `histplot` (an axes-level function for histograms).\n",
            "  warnings.warn(msg, FutureWarning)\n"
          ]
        },
        {
          "output_type": "execute_result",
          "data": {
            "text/plain": [
              "<matplotlib.axes._subplots.AxesSubplot at 0x7f372c0ead10>"
            ]
          },
          "metadata": {},
          "execution_count": 15
        },
        {
          "output_type": "display_data",
          "data": {
            "text/plain": [
              "<Figure size 432x288 with 1 Axes>"
            ],
            "image/png": "[encoded data removed]"
          },
          "metadata": {
            "needs_background": "light"
          }
        }
      ],
      "source": [
        "sns.distplot(df['Age'])"
      ]
    },
    {
      "cell_type": "markdown",
      "metadata": {
        "id": "yDlMisC7qcSv"
      },
      "source": [
        "**Division of DataSet into Training and Testing Data**"
      ]
    },
    {
      "cell_type": "code",
      "execution_count": 16,
      "metadata": {
        "id": "WWBGrvGaEbRm"
      },
      "outputs": [],
      "source": [
        "from sklearn.model_selection import train_test_split"
      ]
    },
    {
      "cell_type": "code",
      "execution_count": 17,
      "metadata": {
        "id": "qR3t0id3FV28"
      },
      "outputs": [],
      "source": [
        "#splitting of data into training and testing data.\n",
        "#training data-67.77% of original data in the datasets.\n",
        "#testing data-33.33% of original data in the datasets.\n",
        "X_train, X_test, y_train, y_test = train_test_split(df.loc[:,:'ST_Slope'],df['HeartDisease'], test_size=0.33, random_state=42)"
      ]
    },
    {
      "cell_type": "code",
      "execution_count": 18,
      "metadata": {
        "colab": {
          "base_uri": "https://localhost:8080/",
          "height": 488
        },
        "id": "S5FQsClvGxYG",
        "outputId": "64992b63-f406-4bb2-921a-a639334a754d"
      },
      "outputs": [
        {
          "output_type": "execute_result",
          "data": {
            "text/plain": [
              "     Age  Sex  ChestPainType  RestingBP  Cholesterol  FastingBS  RestingECG  \\\n",
              "527   62    0              0        124          209          0           1   \n",
              "359   53    0              2        128          216          0           0   \n",
              "447   55    1              0        160          289          0           0   \n",
              "31    50    0              1        120          244          0           1   \n",
              "621   48    1              0        130          256          1           0   \n",
              "..   ...  ...            ...        ...          ...        ...         ...   \n",
              "601   46    1              0        140          311          0           1   \n",
              "728   46    1              0        140          311          0           1   \n",
              "478   39    1              2        140          321          0           0   \n",
              "896   59    1              3        178          270          0           0   \n",
              "228   52    1              1        128          205          1           1   \n",
              "\n",
              "     MaxHR  ExecrciseAngina  Oldpeak  ST_Slope  \n",
              "527    163                0      0.0         2  \n",
              "359    115                0      0.0         2  \n",
              "447    145                1      0.8         1  \n",
              "31     162                0      1.1         2  \n",
              "621    150                1      0.0         2  \n",
              "..     ...              ...      ...       ...  \n",
              "601    120                1      1.8         1  \n",
              "728    120                1      1.8         1  \n",
              "478    182                0      0.0         2  \n",
              "896    145                0      4.2         0  \n",
              "228    184                0      0.0         2  \n",
              "\n",
              "[339 rows x 11 columns]"
            ],
            "text/html": [
              "\n",
              "  <div id=\"df-3c490f2d-07f7-4327-b6bf-2182d7e2fa9d\">\n",
              "    <div class=\"colab-df-container\">\n",
              "      <div>\n",
              "<style scoped>\n",
              "    .dataframe tbody tr th:only-of-type {\n",
              "        vertical-align: middle;\n",
              "    }\n",
              "\n",
              "    .dataframe tbody tr th {\n",
              "        vertical-align: top;\n",
              "    }\n",
              "\n",
              "    .dataframe thead th {\n",
              "        text-align: right;\n",
              "    }\n",
              "</style>\n",
              "<table border=\"1\" class=\"dataframe\">\n",
              "  <thead>\n",
              "    <tr style=\"text-align: right;\">\n",
              "      <th></th>\n",
              "      <th>Age</th>\n",
              "      <th>Sex</th>\n",
              "      <th>ChestPainType</th>\n",
              "      <th>RestingBP</th>\n",
              "      <th>Cholesterol</th>\n",
              "      <th>FastingBS</th>\n",
              "      <th>RestingECG</th>\n",
              "      <th>MaxHR</th>\n",
              "      <th>ExecrciseAngina</th>\n",
              "      <th>Oldpeak</th>\n",
              "      <th>ST_Slope</th>\n",
              "    </tr>\n",
              "  </thead>\n",
              "  <tbody>\n",
              "    <tr>\n",
              "      <th>527</th>\n",
              "      <td>62</td>\n",
              "      <td>0</td>\n",
              "      <td>0</td>\n",
              "      <td>124</td>\n",
              "      <td>209</td>\n",
              "      <td>0</td>\n",
              "      <td>1</td>\n",
              "      <td>163</td>\n",
              "      <td>0</td>\n",
              "      <td>0.0</td>\n",
              "      <td>2</td>\n",
              "    </tr>\n",
              "    <tr>\n",
              "      <th>359</th>\n",
              "      <td>53</td>\n",
              "      <td>0</td>\n",
              "      <td>2</td>\n",
              "      <td>128</td>\n",
              "      <td>216</td>\n",
              "      <td>0</td>\n",
              "      <td>0</td>\n",
              "      <td>115</td>\n",
              "      <td>0</td>\n",
              "      <td>0.0</td>\n",
              "      <td>2</td>\n",
              "    </tr>\n",
              "    <tr>\n",
              "      <th>447</th>\n",
              "      <td>55</td>\n",
              "      <td>1</td>\n",
              "      <td>0</td>\n",
              "      <td>160</td>\n",
              "      <td>289</td>\n",
              "      <td>0</td>\n",
              "      <td>0</td>\n",
              "      <td>145</td>\n",
              "      <td>1</td>\n",
              "      <td>0.8</td>\n",
              "      <td>1</td>\n",
              "    </tr>\n",
              "    <tr>\n",
              "      <th>31</th>\n",
              "      <td>50</td>\n",
              "      <td>0</td>\n",
              "      <td>1</td>\n",
              "      <td>120</td>\n",
              "      <td>244</td>\n",
              "      <td>0</td>\n",
              "      <td>1</td>\n",
              "      <td>162</td>\n",
              "      <td>0</td>\n",
              "      <td>1.1</td>\n",
              "      <td>2</td>\n",
              "    </tr>\n",
              "    <tr>\n",
              "      <th>621</th>\n",
              "      <td>48</td>\n",
              "      <td>1</td>\n",
              "      <td>0</td>\n",
              "      <td>130</td>\n",
              "      <td>256</td>\n",
              "      <td>1</td>\n",
              "      <td>0</td>\n",
              "      <td>150</td>\n",
              "      <td>1</td>\n",
              "      <td>0.0</td>\n",
              "      <td>2</td>\n",
              "    </tr>\n",
              "    <tr>\n",
              "      <th>...</th>\n",
              "      <td>...</td>\n",
              "      <td>...</td>\n",
              "      <td>...</td>\n",
              "      <td>...</td>\n",
              "      <td>...</td>\n",
              "      <td>...</td>\n",
              "      <td>...</td>\n",
              "      <td>...</td>\n",
              "      <td>...</td>\n",
              "      <td>...</td>\n",
              "      <td>...</td>\n",
              "    </tr>\n",
              "    <tr>\n",
              "      <th>601</th>\n",
              "      <td>46</td>\n",
              "      <td>1</td>\n",
              "      <td>0</td>\n",
              "      <td>140</td>\n",
              "      <td>311</td>\n",
              "      <td>0</td>\n",
              "      <td>1</td>\n",
              "      <td>120</td>\n",
              "      <td>1</td>\n",
              "      <td>1.8</td>\n",
              "      <td>1</td>\n",
              "    </tr>\n",
              "    <tr>\n",
              "      <th>728</th>\n",
              "      <td>46</td>\n",
              "      <td>1</td>\n",
              "      <td>0</td>\n",
              "      <td>140</td>\n",
              "      <td>311</td>\n",
              "      <td>0</td>\n",
              "      <td>1</td>\n",
              "      <td>120</td>\n",
              "      <td>1</td>\n",
              "      <td>1.8</td>\n",
              "      <td>1</td>\n",
              "    </tr>\n",
              "    <tr>\n",
              "      <th>478</th>\n",
              "      <td>39</td>\n",
              "      <td>1</td>\n",
              "      <td>2</td>\n",
              "      <td>140</td>\n",
              "      <td>321</td>\n",
              "      <td>0</td>\n",
              "      <td>0</td>\n",
              "      <td>182</td>\n",
              "      <td>0</td>\n",
              "      <td>0.0</td>\n",
              "      <td>2</td>\n",
              "    </tr>\n",
              "    <tr>\n",
              "      <th>896</th>\n",
              "      <td>59</td>\n",
              "      <td>1</td>\n",
              "      <td>3</td>\n",
              "      <td>178</td>\n",
              "      <td>270</td>\n",
              "      <td>0</td>\n",
              "      <td>0</td>\n",
              "      <td>145</td>\n",
              "      <td>0</td>\n",
              "      <td>4.2</td>\n",
              "      <td>0</td>\n",
              "    </tr>\n",
              "    <tr>\n",
              "      <th>228</th>\n",
              "      <td>52</td>\n",
              "      <td>1</td>\n",
              "      <td>1</td>\n",
              "      <td>128</td>\n",
              "      <td>205</td>\n",
              "      <td>1</td>\n",
              "      <td>1</td>\n",
              "      <td>184</td>\n",
              "      <td>0</td>\n",
              "      <td>0.0</td>\n",
              "      <td>2</td>\n",
              "    </tr>\n",
              "  </tbody>\n",
              "</table>\n",
              "<p>339 rows × 11 columns</p>\n",
              "</div>\n",
              "      <button class=\"colab-df-convert\" onclick=\"convertToInteractive('df-3c490f2d-07f7-4327-b6bf-2182d7e2fa9d')\"\n",
              "              title=\"Convert this dataframe to an interactive table.\"\n",
              "              style=\"display:none;\">\n",
              "        \n",
              "  <svg xmlns=\"http://www.w3.org/2000/svg\" height=\"24px\"viewBox=\"0 0 24 24\"\n",
              "       width=\"24px\">\n",
              "    <path d=\"M0 0h24v24H0V0z\" fill=\"none\"/>\n",
              "    <path d=\"M18.56 5.44l.94 2.06.94-2.06 2.06-.94-2.06-.94-.94-2.06-.94 2.06-2.06.94zm-11 1L8.5 8.5l.94-2.06 2.06-.94-2.06-.94L8.5 2.5l-.94 2.06-2.06.94zm10 10l.94 2.06.94-2.06 2.06-.94-2.06-.94-.94-2.06-.94 2.06-2.06.94z\"/><path d=\"M17.41 7.96l-1.37-1.37c-.4-.4-.92-.59-1.43-.59-.52 0-1.04.2-1.43.59L10.3 9.45l-7.72 7.72c-.78.78-.78 2.05 0 2.83L4 21.41c.39.39.9.59 1.41.59.51 0 1.02-.2 1.41-.59l7.78-7.78 2.81-2.81c.8-.78.8-2.07 0-2.86zM5.41 20L4 18.59l7.72-7.72 1.47 1.35L5.41 20z\"/>\n",
              "  </svg>\n",
              "      </button>\n",
              "      \n",
              "  <style>\n",
              "    .colab-df-container {\n",
              "      display:flex;\n",
              "      flex-wrap:wrap;\n",
              "      gap: 12px;\n",
              "    }\n",
              "\n",
              "    .colab-df-convert {\n",
              "      background-color: #E8F0FE;\n",
              "      border: none;\n",
              "      border-radius: 50%;\n",
              "      cursor: pointer;\n",
              "      display: none;\n",
              "      fill: #1967D2;\n",
              "      height: 32px;\n",
              "      padding: 0 0 0 0;\n",
              "      width: 32px;\n",
              "    }\n",
              "\n",
              "    .colab-df-convert:hover {\n",
              "      background-color: #E2EBFA;\n",
              "      box-shadow: 0px 1px 2px rgba(60, 64, 67, 0.3), 0px 1px 3px 1px rgba(60, 64, 67, 0.15);\n",
              "      fill: #174EA6;\n",
              "    }\n",
              "\n",
              "    [theme=dark] .colab-df-convert {\n",
              "      background-color: #3B4455;\n",
              "      fill: #D2E3FC;\n",
              "    }\n",
              "\n",
              "    [theme=dark] .colab-df-convert:hover {\n",
              "      background-color: #434B5C;\n",
              "      box-shadow: 0px 1px 3px 1px rgba(0, 0, 0, 0.15);\n",
              "      filter: drop-shadow(0px 1px 2px rgba(0, 0, 0, 0.3));\n",
              "      fill: #FFFFFF;\n",
              "    }\n",
              "  </style>\n",
              "\n",
              "      <script>\n",
              "        const buttonEl =\n",
              "          document.querySelector('#df-3c490f2d-07f7-4327-b6bf-2182d7e2fa9d button.colab-df-convert');\n",
              "        buttonEl.style.display =\n",
              "          google.colab.kernel.accessAllowed ? 'block' : 'none';\n",
              "\n",
              "        async function convertToInteractive(key) {\n",
              "          const element = document.querySelector('#df-3c490f2d-07f7-4327-b6bf-2182d7e2fa9d');\n",
              "          const dataTable =\n",
              "            await google.colab.kernel.invokeFunction('convertToInteractive',\n",
              "                                                     [key], {});\n",
              "          if (!dataTable) return;\n",
              "\n",
              "          const docLinkHtml = 'Like what you see? Visit the ' +\n",
              "            '<a target=\"_blank\" href=https://colab.research.google.com/notebooks/data_table.ipynb>data table notebook</a>'\n",
              "            + ' to learn more about interactive tables.';\n",
              "          element.innerHTML = '';\n",
              "          dataTable['output_type'] = 'display_data';\n",
              "          await google.colab.output.renderOutput(dataTable, element);\n",
              "          const docLink = document.createElement('div');\n",
              "          docLink.innerHTML = docLinkHtml;\n",
              "          element.appendChild(docLink);\n",
              "        }\n",
              "      </script>\n",
              "    </div>\n",
              "  </div>\n",
              "  "
            ]
          },
          "metadata": {},
          "execution_count": 18
        }
      ],
      "source": [
        "#displaying X_test data used for testing purpose\n",
        "X_test"
      ]
    },
    {
      "cell_type": "code",
      "execution_count": 19,
      "metadata": {
        "colab": {
          "base_uri": "https://localhost:8080/"
        },
        "id": "RmUCkfFRH5lw",
        "outputId": "65e6db49-a64c-4e60-972a-ca9937627500"
      },
      "outputs": [
        {
          "output_type": "execute_result",
          "data": {
            "text/plain": [
              "527    1\n",
              "359    1\n",
              "447    0\n",
              "31     1\n",
              "621    0\n",
              "      ..\n",
              "601    0\n",
              "728    0\n",
              "478    1\n",
              "896    1\n",
              "228    1\n",
              "Name: HeartDisease, Length: 339, dtype: int64"
            ]
          },
          "metadata": {},
          "execution_count": 19
        }
      ],
      "source": [
        "#displaying X_test data used for prediction purpose\n",
        "y_test"
      ]
    },
    {
      "cell_type": "markdown",
      "metadata": {
        "id": "ZIhnMUbNrG9y"
      },
      "source": [
        "**Logisitic Regression**"
      ]
    },
    {
      "cell_type": "code",
      "execution_count": 20,
      "metadata": {
        "id": "WEioN9_RH7vG"
      },
      "outputs": [],
      "source": [
        "#importing LogisiticRegression from sklearn library\n",
        "from sklearn.linear_model import LogisticRegression"
      ]
    },
    {
      "cell_type": "code",
      "execution_count": 21,
      "metadata": {
        "id": "D5YuOoZgIDhW"
      },
      "outputs": [],
      "source": [
        "#creation of LogisticRegression Model \n",
        "model=LogisticRegression()"
      ]
    },
    {
      "cell_type": "code",
      "execution_count": 22,
      "metadata": {
        "colab": {
          "base_uri": "https://localhost:8080/"
        },
        "id": "4fZtM_q4IGtW",
        "outputId": "7c6a6620-a2f1-476c-ca9c-48b67af9f13a"
      },
      "outputs": [
        {
          "output_type": "stream",
          "name": "stderr",
          "text": [
            "/usr/local/lib/python3.7/dist-packages/sklearn/linear_model/_logistic.py:818: ConvergenceWarning: lbfgs failed to converge (status=1):\n",
            "STOP: TOTAL NO. of ITERATIONS REACHED LIMIT.\n",
            "\n",
            "Increase the number of iterations (max_iter) or scale the data as shown in:\n",
            "    https://scikit-learn.org/stable/modules/preprocessing.html\n",
            "Please also refer to the documentation for alternative solver options:\n",
            "    https://scikit-learn.org/stable/modules/linear_model.html#logistic-regression\n",
            "  extra_warning_msg=_LOGISTIC_SOLVER_CONVERGENCE_MSG,\n"
          ]
        },
        {
          "output_type": "execute_result",
          "data": {
            "text/plain": [
              "LogisticRegression()"
            ]
          },
          "metadata": {},
          "execution_count": 22
        }
      ],
      "source": [
        "#fiting the Training Data(X_train,Y_train) into the logisiticRegression Model\n",
        "model.fit(X_train,y_train)"
      ]
    },
    {
      "cell_type": "code",
      "execution_count": 23,
      "metadata": {
        "id": "IRhVo3QgIRhv"
      },
      "outputs": [],
      "source": [
        "#Generation of predicted data as an output based on X_test which is provided as the input\n",
        "y_pred=model.predict(X_test)"
      ]
    },
    {
      "cell_type": "code",
      "execution_count": 24,
      "metadata": {
        "colab": {
          "base_uri": "https://localhost:8080/"
        },
        "id": "YijWwZghIYqX",
        "outputId": "aa48269b-2fee-446e-f37f-da999a22928f"
      },
      "outputs": [
        {
          "output_type": "stream",
          "name": "stdout",
          "text": [
            "model score: 76.0\n"
          ]
        }
      ],
      "source": [
        "#Generation of ModelScore for above generatedModel\n",
        "LogRegScore = round(model.score(X_test, y_test), 2)*100\n",
        "print('model score: '+str(LogRegScore))"
      ]
    },
    {
      "cell_type": "code",
      "execution_count": 25,
      "metadata": {
        "id": "DI7_ueza6FK4"
      },
      "outputs": [],
      "source": [
        "#Generation of Accuracy Score for the Above generated Model\n",
        "accuracy_val=accuracy_score(y_test,y_pred)"
      ]
    },
    {
      "cell_type": "code",
      "execution_count": 26,
      "metadata": {
        "colab": {
          "base_uri": "https://localhost:8080/"
        },
        "id": "8gkR9chKIf4G",
        "outputId": "c63d9433-dc2c-46ac-a7e2-b4f3d98983e9"
      },
      "outputs": [
        {
          "output_type": "stream",
          "name": "stdout",
          "text": [
            "the accuracy of the model is: 75.81120943952803\n"
          ]
        }
      ],
      "source": [
        "res=accuracy_val*100\n",
        "print('the accuracy of the model is: '+str(res))"
      ]
    },
    {
      "cell_type": "markdown",
      "metadata": {
        "id": "IHPBuDM-uFCE"
      },
      "source": [
        "**R2score and MeanSquaredError**"
      ]
    },
    {
      "cell_type": "code",
      "execution_count": 27,
      "metadata": {
        "colab": {
          "base_uri": "https://localhost:8080/"
        },
        "id": "zvtTOVAwuEP9",
        "outputId": "2cfc1e66-04fa-4e06-cdc8-dc2b361c3f95"
      },
      "outputs": [
        {
          "output_type": "stream",
          "name": "stdout",
          "text": [
            "R2_Score:  0.03237259816207183\n",
            "mean_squared_error:  0.24188790560471976\n"
          ]
        }
      ],
      "source": [
        "#The Mean Squared Error (MSE) or Mean Squared Deviation (MSD) of an estimator measures the average of error squares.\n",
        "#It corresponding to the expected value of the squared error loss.\n",
        "#r2_score defines the proportion of the variance in the dependent variable that is predictable from the independent variable(s) present in the datset\n",
        "from sklearn.metrics import r2_score,mean_squared_error\n",
        "print('R2_Score: ',r2_score(y_test,y_pred))\n",
        "print('mean_squared_error: ',mean_squared_error(y_test,y_pred))"
      ]
    },
    {
      "cell_type": "markdown",
      "metadata": {
        "id": "TvFuZpFEgC5l"
      },
      "source": [
        "**Decision Classifier**"
      ]
    },
    {
      "cell_type": "code",
      "execution_count": 28,
      "metadata": {
        "id": "ARIBnGu6I0T8"
      },
      "outputs": [],
      "source": [
        "from sklearn.tree import DecisionTreeClassifier\n",
        "from sklearn.metrics import accuracy_score\n",
        "from sklearn.metrics import confusion_matrix"
      ]
    },
    {
      "cell_type": "markdown",
      "metadata": {
        "id": "iiPNeKsgsI3U"
      },
      "source": [
        "**Feature Scaling**"
      ]
    },
    {
      "cell_type": "code",
      "execution_count": 29,
      "metadata": {
        "id": "bQ1AeL3e6t7C"
      },
      "outputs": [],
      "source": [
        "#Feature Scaling is a technique to standardize the independent features present in the data in a fixed range.\n",
        "#It is performed during the data pre-processing to handle highly varying magnitudes or values or units. If feature scaling is not done, then a machine learning algorithm tends to weigh greater values, higher and consider smaller values as the lower values, regardless of the unit of the values.\n",
        "\n",
        "\n",
        "from sklearn.preprocessing import StandardScaler    \n",
        "st_x= StandardScaler()    \n",
        "x_train= st_x.fit_transform(X_train)    \n",
        "x_test= st_x.transform(X_test)"
      ]
    },
    {
      "cell_type": "code",
      "execution_count": 30,
      "metadata": {
        "colab": {
          "base_uri": "https://localhost:8080/"
        },
        "id": "tZKw6RoLQ5RS",
        "outputId": "f57c1b2e-d92c-4009-c8f4-0f45ed672e89"
      },
      "outputs": [
        {
          "output_type": "execute_result",
          "data": {
            "text/plain": [
              "DecisionTreeClassifier()"
            ]
          },
          "metadata": {},
          "execution_count": 30
        }
      ],
      "source": [
        "#generating the model of type DecisionTreeClassifier\n",
        "#we are fiiting the model for training the data from the datasets\n",
        "#67.77% of training data and 33.33% of testing data\n",
        "from sklearn.tree import DecisionTreeClassifier\n",
        "new_model = DecisionTreeClassifier()\n",
        "new_model.fit(x_train,y_train)"
      ]
    },
    {
      "cell_type": "code",
      "execution_count": 31,
      "metadata": {
        "colab": {
          "base_uri": "https://localhost:8080/"
        },
        "id": "JWxqWsixRDMf",
        "outputId": "0864901d-bf3e-451c-83fe-aa1fef4c7030"
      },
      "outputs": [
        {
          "output_type": "stream",
          "name": "stdout",
          "text": [
            "confusion matrix\n"
          ]
        },
        {
          "output_type": "execute_result",
          "data": {
            "text/plain": [
              "array([[171,   0],\n",
              "       [  9, 159]])"
            ]
          },
          "metadata": {},
          "execution_count": 31
        }
      ],
      "source": [
        "#Creation of Confusion Matrix\n",
        "#confusion matrix is a 2*2 matrix which has true negative,false positive,false negative and true positive\n",
        "#true predictions is sum of true negative and true positive\n",
        "#false predicitons is the sum of false positive and false negative\n",
        "#in our case the count of true prediciton is 333 and false prediciton is 6\n",
        "prediction=new_model.predict(x_test)\n",
        "cm2=confusion_matrix(y_test,prediction) \n",
        "print('confusion matrix')\n",
        "cm2"
      ]
    },
    {
      "cell_type": "code",
      "execution_count": 32,
      "metadata": {
        "colab": {
          "base_uri": "https://localhost:8080/"
        },
        "id": "RBl2xovRRRdg",
        "outputId": "f6da913e-49d0-4e93-dae2-decae38440cc"
      },
      "outputs": [
        {
          "output_type": "stream",
          "name": "stdout",
          "text": [
            "the accuracy score:  97.34513274336283\n"
          ]
        }
      ],
      "source": [
        "#accuracy of the model is determined over here\n",
        "accuracy_model = accuracy_score(y_test,prediction)\n",
        "print('the accuracy score: ',str(accuracy_model*100))"
      ]
    },
    {
      "cell_type": "markdown",
      "metadata": {
        "id": "T3gxNyiYa9Wk"
      },
      "source": [
        "**Improving the Accuracy of Decision Tree Classifier with HyperTuning Parameter Mechanisms**"
      ]
    },
    {
      "cell_type": "code",
      "execution_count": 33,
      "metadata": {
        "id": "RNEHC5e7eOum"
      },
      "outputs": [],
      "source": [
        "#df_train=df.drop(['Age','Sex','FastingBS','ExerciseAngina'],axis=1)\n",
        "#df_test=df.drop(['Age','Sex','FastingBS','ExerciseAngina'],axis=1)\n",
        "#df_train\n",
        "#df_test\n",
        "#X_train, X_test, y_train, y_test = train_test_split(df.iloc[:,:'ST_Slope'],df['HeartDisease'], test_size=0.33, random_state=42)"
      ]
    },
    {
      "cell_type": "code",
      "execution_count": 34,
      "metadata": {
        "id": "20_EzxP6gRCM"
      },
      "outputs": [],
      "source": [
        "#X_train.shape"
      ]
    },
    {
      "cell_type": "code",
      "execution_count": 35,
      "metadata": {
        "id": "YUJqZ5ergXEH"
      },
      "outputs": [],
      "source": [
        "#y_train.shape"
      ]
    },
    {
      "cell_type": "code",
      "execution_count": 36,
      "metadata": {
        "id": "6lOZ2C4vbEZx"
      },
      "outputs": [],
      "source": [
        "#Hyperparameter tuning is searching the hyperparameter space\n",
        "#for a set of values that will optimize your model architecture.\n",
        "# from sklearn.tree import DecisionTreeClassifier\n",
        "# from sklearn.model_selection import GridSearchCV\n",
        "# #from sklearn.preprocessing import MinMaxScaler\n",
        "# # knn_pipe = Pipeline([('mms', MinMaxScaler()),\n",
        "# #                      ('knn', KNeighborsClassifier())])\n",
        "# dtc = DecisionTreeClassifier()\n",
        "\n",
        "# #forest_params = [{'n_estimators':[1,2,5,10,20,50,55,60,65,80,75,78], 'max_features':[0.2,0.4,0.6,0.8,1]}]\n",
        "# #forest_params = [{'n_estimators':[1,2,5,10,20,50,55,60,65], 'max_features':[0.2,0.4,0.6,0.8,1],'bootstrap':[True,False]}]\n",
        "# #forest_params = [{'n_estimators':[0,100,200,300,400,500], 'max_features':[0.2,0.4,0.8,1],'bootstrap':[True,False]}]\n",
        "# tree_params = {'criterion':['gini','entropy'],'max_depth':[1,2,3,4,5,6,7,8,9,12,50,70,90,120,150],\n",
        "#                'max_features':[0.2,0.4,0.6,0.8,1]}\n",
        "\n",
        "# classifier = GridSearchCV(dtc, tree_params)\n",
        "\n",
        "# classifier.fit(x_train, y_train)\n",
        "\n",
        "# print(\"the best parameters are: \",classifier.best_params_)\n",
        "# print(\"the best score with the predicited parameters: \",classifier.best_score_)\n"
      ]
    },
    {
      "cell_type": "code",
      "execution_count": 37,
      "metadata": {
        "id": "8nv4WzOAjPSY"
      },
      "outputs": [],
      "source": [
        "# classifier= DecisionTreeClassifier(criterion=\"gini\",max_depth=12,max_features=0.2)  \n",
        "# #classifier= RandomForestClassifier(n_estimators=10, criterion=\"entropy\",max_features=0.2,max_depth=150) \n",
        "# classifier.fit(x_train, y_train)\n",
        "# ypred=classifier.predict(x_test)"
      ]
    },
    {
      "cell_type": "code",
      "execution_count": 38,
      "metadata": {
        "id": "UaCSjzNyjSNt"
      },
      "outputs": [],
      "source": [
        "# score_val=accuracy_score(y_test,y_pred)\n",
        "# print(score_val*100)"
      ]
    },
    {
      "cell_type": "markdown",
      "metadata": {
        "id": "6h5rqnv7f8bX"
      },
      "source": [
        "**Feature Scaling**"
      ]
    },
    {
      "cell_type": "code",
      "execution_count": 39,
      "metadata": {
        "id": "VTYu3oD2YDWO"
      },
      "outputs": [],
      "source": [
        "from sklearn.preprocessing import StandardScaler    \n",
        "st_x= StandardScaler()    \n",
        "x_train= st_x.fit_transform(X_train)    \n",
        "x_test= st_x.transform(X_test)  "
      ]
    },
    {
      "cell_type": "markdown",
      "metadata": {
        "id": "u_O7KgUuHyng"
      },
      "source": [
        "**Random Forest Algorithm**"
      ]
    },
    {
      "cell_type": "code",
      "execution_count": 40,
      "metadata": {
        "colab": {
          "base_uri": "https://localhost:8080/"
        },
        "id": "_Se6RUf_Z42b",
        "outputId": "ce013f41-554f-4e4b-ab67-fa6581afd7b8"
      },
      "outputs": [
        {
          "output_type": "stream",
          "name": "stdout",
          "text": [
            "{'bootstrap': False, 'max_features': 1, 'n_estimators': 58}\n",
            "0.9737437850417855\n"
          ]
        }
      ],
      "source": [
        "#Fitting Decision Tree classifier to the training set  \n",
        "from sklearn.ensemble import RandomForestClassifier  \n",
        "from sklearn.model_selection import GridSearchCV\n",
        "from sklearn.neighbors import KNeighborsClassifier\n",
        "from sklearn.pipeline import Pipeline\n",
        "from sklearn.preprocessing import MinMaxScaler\n",
        "# knn_pipe = Pipeline([('mms', MinMaxScaler()),\n",
        "#                      ('knn', KNeighborsClassifier())])\n",
        "rfc = RandomForestClassifier()\n",
        "\n",
        "#forest_params = [{'n_estimators':[1,2,5,10,20,50,55,60,65,80,75,78], 'max_features':[0.2,0.4,0.6,0.8,1]}]\n",
        "forest_params = [{'n_estimators':[1,2,5,10,20,50,55,57,58,60,65], 'max_features':[0.2,0.4,0.6,0.8,1],'bootstrap':[True,False]}]\n",
        "#forest_params = [{'n_estimators':[0,100,200,300,400,500], 'max_features':[0.2,0.4,0.8,1],'bootstrap':[True,False]}]\n",
        "clf = GridSearchCV(rfc, forest_params)\n",
        "\n",
        "clf.fit(x_train, y_train)\n",
        "\n",
        "print(clf.best_params_)\n",
        "print(clf.best_score_)\n",
        "\n",
        "  "
      ]
    },
    {
      "cell_type": "code",
      "execution_count": 41,
      "metadata": {
        "colab": {
          "base_uri": "https://localhost:8080/"
        },
        "id": "GAuSpEqplRnB",
        "outputId": "e3e30ec1-b60a-4f4c-b1ae-28712934fe28"
      },
      "outputs": [
        {
          "output_type": "stream",
          "name": "stdout",
          "text": [
            "confusion matrix:\n",
            " [[123  48]\n",
            " [ 34 134]]\n"
          ]
        }
      ],
      "source": [
        "#Creating the Confusion matrix  for random forest classifier\n",
        "from sklearn.metrics import confusion_matrix  \n",
        "cm= confusion_matrix(y_test, y_pred)\n",
        "print('confusion matrix:\\n',cm)"
      ]
    },
    {
      "cell_type": "code",
      "execution_count": 42,
      "metadata": {
        "id": "U8UaznVKEO7e"
      },
      "outputs": [],
      "source": [
        "#classifier= RandomForestClassifier(n_estimators=58,criterion='gini',bootstrap=True,\n",
        "#max_features=1)  \n",
        "classifier_model= RandomForestClassifier(n_estimators=20, criterion=\"entropy\",bootstrap=False,max_features=1)  \n",
        "#accurate score\n",
        "#classifier= RandomForestClassifier(n_estimators=57, criterion=\"gini\",bootstrap=True,max_features=1) \n",
        "classifier_model.fit(x_train, y_train)\n",
        "ypred=classifier_model.predict(x_test)"
      ]
    },
    {
      "cell_type": "code",
      "execution_count": 43,
      "metadata": {
        "colab": {
          "base_uri": "https://localhost:8080/"
        },
        "id": "lWZ9VdonZ-YF",
        "outputId": "dcf1344d-b6e2-48aa-87c6-5b0a2d5d9e3f"
      },
      "outputs": [
        {
          "output_type": "stream",
          "name": "stdout",
          "text": [
            "Accuracy Score:  98.23008849557522\n"
          ]
        }
      ],
      "source": [
        "#y_pred= classifier.predict(x_test)  \n",
        "acv=accuracy_score(y_test,ypred)\n",
        "print('Accuracy Score: ',acv*100)"
      ]
    },
    {
      "cell_type": "code",
      "execution_count": 44,
      "metadata": {
        "colab": {
          "base_uri": "https://localhost:8080/"
        },
        "id": "9uxoILRwqwPV",
        "outputId": "9ec69556-936c-425c-ffd0-958ec0ade4af"
      },
      "outputs": [
        {
          "output_type": "stream",
          "name": "stdout",
          "text": [
            "     Age  Sex  ChestPainType  RestingBP  Cholesterol  FastingBS  RestingECG  \\\n",
            "527   62    0              0        124          209          0           1   \n",
            "359   53    0              2        128          216          0           0   \n",
            "447   55    1              0        160          289          0           0   \n",
            "31    50    0              1        120          244          0           1   \n",
            "621   48    1              0        130          256          1           0   \n",
            "..   ...  ...            ...        ...          ...        ...         ...   \n",
            "601   46    1              0        140          311          0           1   \n",
            "728   46    1              0        140          311          0           1   \n",
            "478   39    1              2        140          321          0           0   \n",
            "896   59    1              3        178          270          0           0   \n",
            "228   52    1              1        128          205          1           1   \n",
            "\n",
            "     MaxHR  ExecrciseAngina  Oldpeak  ST_Slope  \n",
            "527    163                0      0.0         2  \n",
            "359    115                0      0.0         2  \n",
            "447    145                1      0.8         1  \n",
            "31     162                0      1.1         2  \n",
            "621    150                1      0.0         2  \n",
            "..     ...              ...      ...       ...  \n",
            "601    120                1      1.8         1  \n",
            "728    120                1      1.8         1  \n",
            "478    182                0      0.0         2  \n",
            "896    145                0      4.2         0  \n",
            "228    184                0      0.0         2  \n",
            "\n",
            "[339 rows x 11 columns]\n"
          ]
        }
      ],
      "source": [
        "# from sklearn.neighbors import KNeighborsClassifier\n",
        "# from sklearn.metrics import classification_report\n",
        "# from sklearn.metrics import roc_auc_score\n",
        "print(X_test)"
      ]
    },
    {
      "cell_type": "code",
      "execution_count": 45,
      "metadata": {
        "id": "xgfa0p1JqoHx"
      },
      "outputs": [],
      "source": [
        "#Create KNN Object.\n",
        "# knn = KNeighborsClassifier()\n",
        "# #Create x and y variables.\n",
        "# x = df.drop(columns=['HeartDisease','Age','Sex','ExerciseAngina'])\n",
        "# y = df['HeartDisease']\n",
        "# #Split data into training and testing.\n",
        "# x_train, x_test, y_train, y_test = train_test_split(x, y, test_size=0.2, random_state=4)\n",
        "# #Training the model.\n",
        "# knn.fit(x_train, y_train)\n",
        "# #Predict test data set.\n",
        "# y_pred = knn.predict(x_test)\n",
        "# #Checking performance our model with classification report.\n",
        "# print(classification_report(y_test, y_pred))\n",
        "# #Checking performance our model with ROC Score.\n",
        "# roc_auc_score(y_test, y_pred)"
      ]
    },
    {
      "cell_type": "code",
      "execution_count": 46,
      "metadata": {
        "id": "FTBzM6osqgRq"
      },
      "outputs": [],
      "source": [
        "# leaf_size = list(range(1,50))\n",
        "# n_neighbors = list(range(1,30))\n",
        "# p=[1,2]\n",
        "# #Convert to dictionary\n",
        "# hyperparameters = dict(leaf_size=leaf_size, n_neighbors=n_neighbors, p=p)\n",
        "# #Create new KNN object\n",
        "# knn_2 = KNeighborsClassifier()\n",
        "# #Use GridSearch\n",
        "# clf = GridSearchCV(knn_2, hyperparameters, cv=10)\n",
        "# #Fit the model\n",
        "# best_model = clf.fit(x,y)\n",
        "# #Print The value of best Hyperparameters\n",
        "# print('Best leaf_size:', best_model.best_estimator_.get_params()['leaf_size'])\n",
        "# print('Best p:', best_model.best_estimator_.get_params()['p'])\n",
        "# print('Best n_neighbors:', best_model.best_estimator_.get_params()['n_neighbors'])\n"
      ]
    },
    {
      "cell_type": "code",
      "execution_count": 47,
      "metadata": {
        "id": "MtwrciZ4rW2r"
      },
      "outputs": [],
      "source": [
        "import pickle \n",
        "pickle_out = open(\"classifier.pkl\", mode = \"wb\") \n",
        "pickle.dump(new_model, pickle_out) \n",
        "pickle_out.close()"
      ]
    },
    {
      "cell_type": "code",
      "execution_count": 48,
      "metadata": {
        "colab": {
          "base_uri": "https://localhost:8080/"
        },
        "id": "is0pkkMHlJhA",
        "outputId": "cd1bc0c4-a6cf-4c28-bb26-3cf8d8aa2ce0"
      },
      "outputs": [
        {
          "output_type": "stream",
          "name": "stdout",
          "text": [
            "Writing app.py\n"
          ]
        }
      ],
      "source": [
        "%%writefile app.py\n",
        "import pickle\n",
        "import streamlit as st\n",
        " \n",
        "# loading the trained model\n",
        "pickle_in = open('classifier.pkl', 'rb') \n",
        "classifier = pickle.load(pickle_in)\n",
        "\n",
        "# pickle_in = open('classifier.pkl', 'rb') \n",
        "# classifier = pickle.load(pickle_in)\n",
        " \n",
        "@st.cache()\n",
        "  \n",
        "# defining the function which will make the prediction using the data which the user inputs \n",
        "def prediction(Age,Sex,ChestPainType,RestingBP,Cholesterol,FastingBS,RestingECG,MaxHR,ExerciseAngina,\n",
        "               Oldpeak,ST_Slope):   \n",
        " \n",
        "    #Pre-processing user input\n",
        "    if Age == \"Old\":\n",
        "      Age=58\n",
        "    elif Age == \"Adult\":\n",
        "      Age=30\n",
        "    else:\n",
        "      Age=15\n",
        "\n",
        "    if Sex == \"Male\":\n",
        "        Sex = 0\n",
        "    else:\n",
        "        Sex = 1\n",
        "        \n",
        "    if ChestPainType == \"TA\":\n",
        "      ChestPainType=3\n",
        "    elif ChestPainType == \"ATA\":\n",
        "      ChestPainType=1\n",
        "    elif ChestPainType == \"NAP\":\n",
        "      ChestPainType=2\n",
        "    else:\n",
        "      ChestPainType=0\n",
        "\n",
        "    if RestingBP == \"Very High\":\n",
        "       RestingBP=200\n",
        "    elif RestingBP == \"High\":\n",
        "       RestingBP=140   \n",
        "    else:\n",
        "       RestingBP=130\n",
        "\n",
        "\n",
        "    if FastingBS == \">120 mg/dl\":\n",
        "       FastingBS=1\n",
        "    else:\n",
        "       FastingBS=0 \n",
        "    if Oldpeak == \"very high\":\n",
        "        Oldpeak=5\n",
        "    elif Oldpeak == \"high\":    \n",
        "         Oldpeak=0.0\n",
        "    else:\n",
        "        Oldpeak=1\n",
        "\n",
        "    if ST_Slope == \"Up\":\n",
        "      ST_Slope=2\n",
        "    elif ST_Slope == \"Flat\":\n",
        "      ST_Slope=1\n",
        "    else:\n",
        "        ST_Slope=0\n",
        "\n",
        "    if Cholesterol == \"Very High\":\n",
        "      Cholestrol=350\n",
        "    elif Cholesterol == \"Medium\":\n",
        "      Cholesterol=300\n",
        "    else:\n",
        "      Cholesterol=211  \n",
        "\n",
        "    if MaxHR == \"Very High\":\n",
        "        MaxHR=190\n",
        "    elif MaxHR == \"High\":\n",
        "        MaxHR=165     \n",
        "    else:\n",
        "        MaxHR=90\n",
        " \n",
        "    if RestingECG == \"Normal\":\n",
        "       RestingECG  = 2\n",
        "    if RestingECG == \"LVH\":\n",
        "        RestingECG = 1  \n",
        "    else:\n",
        "        RestingECG = 0\n",
        "\n",
        "    if ExerciseAngina == \"No\":\n",
        "        ExerciseAngina = 0\n",
        "    else:\n",
        "        ExerciseAngina = 1\n",
        " \n",
        "    \n",
        " \n",
        "    # Making predictions \n",
        "    prediction = classifier.predict( \n",
        "        [[Age,Sex,ChestPainType,RestingBP,Cholesterol,FastingBS,RestingECG,MaxHR,ExerciseAngina,\n",
        "               Oldpeak,ST_Slope]])\n",
        "     \n",
        "    if prediction == 0:\n",
        "        pred = 'Person does not have heart disease'\n",
        "    else:\n",
        "        pred = 'Person has a higher probability of having heart disease'\n",
        "    return pred\n",
        "      \n",
        "  \n",
        "# this is the main function in which we define our webpage  \n",
        "def main():       \n",
        "    # front end elements of the web page \n",
        "    html_temp = \"\"\" \n",
        "    <div style =\"background-color:green;padding:13px\"> \n",
        "    <h1 style =\"color:black;text-align:center;\">Heart Disease Prediction ML App</h1> \n",
        "    </div> \n",
        "    \"\"\"\n",
        "      \n",
        "    # display the front end aspect\n",
        "    st.markdown(html_temp, unsafe_allow_html = True) \n",
        "      \n",
        "    # following lines create boxes in which user can enter data required to make prediction \n",
        "    Age = st.selectbox('Age',(\"Old\",\"Adult\",\"Young\"))\n",
        "    Sex = st.selectbox('Sex',(\"Male\",\"Female\")) \n",
        "    ChestPainType = st.selectbox('ChestPainType',(\"ATA\",\"TA\",\"NAP\",\"ASY\")) \n",
        "    RestingBP = st.selectbox('RestingBP',(\"Very High\",\"High\",\"Low\")) \n",
        "    Cholesterol = st.selectbox('Cholesterol',(\"Very High\",\"Medium\",\"Low\")) \n",
        "    FastingBS = st.selectbox('FastingBS',(\">120mg/dl\",\"<=120mg/dl\")) \n",
        "    RestingECG = st.selectbox('RestingECG',(\"Normal\",\"ST\",\"LVH\")) \n",
        "    MaxHR = st.selectbox('MaxHR',(\"Very High\",\"High\",\"Low\")) \n",
        "    ExerciseAngina = st.selectbox('ExcerciseAngina',(\"Yes\",\"No\")) \n",
        "    Oldpeak = st.selectbox('Oldpeak',(\"very high\",\"high\")) \n",
        "    # ApplicantIncome = st.number_input(\"Applicants monthly income\") \n",
        "    # LoanAmount = st.number_input(\"Total loan amount\")\n",
        "    ST_Slope = st.selectbox('ST_Slope',(\"Up\",\"Flat\",\"Down\"))\n",
        "    # result =\"\"\n",
        "      \n",
        "    # when 'Predict' is clicked, make the prediction and store it \n",
        "    if st.button(\"Predict\"): \n",
        "        result = prediction(Age,Sex,ChestPainType,RestingBP,Cholesterol,FastingBS,RestingECG,MaxHR,ExerciseAngina,\n",
        "               Oldpeak,ST_Slope) \n",
        "        st.success('Your Status:  {}'.format(result))\n",
        "        #print(LoanAmount)\n",
        "     \n",
        "if __name__=='__main__': \n",
        "    main()\n"
      ]
    },
    {
      "cell_type": "code",
      "execution_count": 49,
      "metadata": {
        "id": "JXt-SZCpls99",
        "colab": {
          "base_uri": "https://localhost:8080/"
        },
        "outputId": "96c16857-8bbb-4d95-cfaf-e02cf0a3b1e1"
      },
      "outputs": [
        {
          "output_type": "stream",
          "name": "stdout",
          "text": [
            "\u001b[?25l\r\u001b[K     |▍                               | 10 kB 22.5 MB/s eta 0:00:01\r\u001b[K     |▉                               | 20 kB 12.9 MB/s eta 0:00:01\r\u001b[K     |█▎                              | 30 kB 9.7 MB/s eta 0:00:01\r\u001b[K     |█▊                              | 40 kB 8.5 MB/s eta 0:00:01\r\u001b[K     |██▏                             | 51 kB 4.6 MB/s eta 0:00:01\r\u001b[K     |██▋                             | 61 kB 5.4 MB/s eta 0:00:01\r\u001b[K     |███                             | 71 kB 5.4 MB/s eta 0:00:01\r\u001b[K     |███▌                            | 81 kB 5.3 MB/s eta 0:00:01\r\u001b[K     |████                            | 92 kB 5.9 MB/s eta 0:00:01\r\u001b[K     |████▍                           | 102 kB 5.2 MB/s eta 0:00:01\r\u001b[K     |████▉                           | 112 kB 5.2 MB/s eta 0:00:01\r\u001b[K     |█████▎                          | 122 kB 5.2 MB/s eta 0:00:01\r\u001b[K     |█████▊                          | 133 kB 5.2 MB/s eta 0:00:01\r\u001b[K     |██████▏                         | 143 kB 5.2 MB/s eta 0:00:01\r\u001b[K     |██████▋                         | 153 kB 5.2 MB/s eta 0:00:01\r\u001b[K     |███████                         | 163 kB 5.2 MB/s eta 0:00:01\r\u001b[K     |███████▌                        | 174 kB 5.2 MB/s eta 0:00:01\r\u001b[K     |████████                        | 184 kB 5.2 MB/s eta 0:00:01\r\u001b[K     |████████▍                       | 194 kB 5.2 MB/s eta 0:00:01\r\u001b[K     |████████▉                       | 204 kB 5.2 MB/s eta 0:00:01\r\u001b[K     |█████████▎                      | 215 kB 5.2 MB/s eta 0:00:01\r\u001b[K     |█████████▊                      | 225 kB 5.2 MB/s eta 0:00:01\r\u001b[K     |██████████▏                     | 235 kB 5.2 MB/s eta 0:00:01\r\u001b[K     |██████████▌                     | 245 kB 5.2 MB/s eta 0:00:01\r\u001b[K     |███████████                     | 256 kB 5.2 MB/s eta 0:00:01\r\u001b[K     |███████████▍                    | 266 kB 5.2 MB/s eta 0:00:01\r\u001b[K     |███████████▉                    | 276 kB 5.2 MB/s eta 0:00:01\r\u001b[K     |████████████▎                   | 286 kB 5.2 MB/s eta 0:00:01\r\u001b[K     |████████████▊                   | 296 kB 5.2 MB/s eta 0:00:01\r\u001b[K     |█████████████▏                  | 307 kB 5.2 MB/s eta 0:00:01\r\u001b[K     |█████████████▋                  | 317 kB 5.2 MB/s eta 0:00:01\r\u001b[K     |██████████████                  | 327 kB 5.2 MB/s eta 0:00:01\r\u001b[K     |██████████████▌                 | 337 kB 5.2 MB/s eta 0:00:01\r\u001b[K     |███████████████                 | 348 kB 5.2 MB/s eta 0:00:01\r\u001b[K     |███████████████▍                | 358 kB 5.2 MB/s eta 0:00:01\r\u001b[K     |███████████████▉                | 368 kB 5.2 MB/s eta 0:00:01\r\u001b[K     |████████████████▎               | 378 kB 5.2 MB/s eta 0:00:01\r\u001b[K     |████████████████▊               | 389 kB 5.2 MB/s eta 0:00:01\r\u001b[K     |█████████████████▏              | 399 kB 5.2 MB/s eta 0:00:01\r\u001b[K     |█████████████████▋              | 409 kB 5.2 MB/s eta 0:00:01\r\u001b[K     |██████████████████              | 419 kB 5.2 MB/s eta 0:00:01\r\u001b[K     |██████████████████▌             | 430 kB 5.2 MB/s eta 0:00:01\r\u001b[K     |███████████████████             | 440 kB 5.2 MB/s eta 0:00:01\r\u001b[K     |███████████████████▍            | 450 kB 5.2 MB/s eta 0:00:01\r\u001b[K     |███████████████████▉            | 460 kB 5.2 MB/s eta 0:00:01\r\u001b[K     |████████████████████▎           | 471 kB 5.2 MB/s eta 0:00:01\r\u001b[K     |████████████████████▋           | 481 kB 5.2 MB/s eta 0:00:01\r\u001b[K     |█████████████████████           | 491 kB 5.2 MB/s eta 0:00:01\r\u001b[K     |█████████████████████▌          | 501 kB 5.2 MB/s eta 0:00:01\r\u001b[K     |██████████████████████          | 512 kB 5.2 MB/s eta 0:00:01\r\u001b[K     |██████████████████████▍         | 522 kB 5.2 MB/s eta 0:00:01\r\u001b[K     |██████████████████████▉         | 532 kB 5.2 MB/s eta 0:00:01\r\u001b[K     |███████████████████████▎        | 542 kB 5.2 MB/s eta 0:00:01\r\u001b[K     |███████████████████████▊        | 552 kB 5.2 MB/s eta 0:00:01\r\u001b[K     |████████████████████████▏       | 563 kB 5.2 MB/s eta 0:00:01\r\u001b[K     |████████████████████████▋       | 573 kB 5.2 MB/s eta 0:00:01\r\u001b[K     |█████████████████████████       | 583 kB 5.2 MB/s eta 0:00:01\r\u001b[K     |█████████████████████████▌      | 593 kB 5.2 MB/s eta 0:00:01\r\u001b[K     |██████████████████████████      | 604 kB 5.2 MB/s eta 0:00:01\r\u001b[K     |██████████████████████████▍     | 614 kB 5.2 MB/s eta 0:00:01\r\u001b[K     |██████████████████████████▉     | 624 kB 5.2 MB/s eta 0:00:01\r\u001b[K     |███████████████████████████▎    | 634 kB 5.2 MB/s eta 0:00:01\r\u001b[K     |███████████████████████████▊    | 645 kB 5.2 MB/s eta 0:00:01\r\u001b[K     |████████████████████████████▏   | 655 kB 5.2 MB/s eta 0:00:01\r\u001b[K     |████████████████████████████▋   | 665 kB 5.2 MB/s eta 0:00:01\r\u001b[K     |█████████████████████████████   | 675 kB 5.2 MB/s eta 0:00:01\r\u001b[K     |█████████████████████████████▌  | 686 kB 5.2 MB/s eta 0:00:01\r\u001b[K     |██████████████████████████████  | 696 kB 5.2 MB/s eta 0:00:01\r\u001b[K     |██████████████████████████████▍ | 706 kB 5.2 MB/s eta 0:00:01\r\u001b[K     |██████████████████████████████▊ | 716 kB 5.2 MB/s eta 0:00:01\r\u001b[K     |███████████████████████████████▏| 727 kB 5.2 MB/s eta 0:00:01\r\u001b[K     |███████████████████████████████▋| 737 kB 5.2 MB/s eta 0:00:01\r\u001b[K     |████████████████████████████████| 745 kB 5.2 MB/s \n",
            "\u001b[?25h  Building wheel for pyngrok (setup.py) ... \u001b[?25l\u001b[?25hdone\n"
          ]
        }
      ],
      "source": [
        "!pip install -q pyngrok"
      ]
    },
    {
      "cell_type": "code",
      "execution_count": 50,
      "metadata": {
        "id": "RJfs_vFKqtmt",
        "colab": {
          "base_uri": "https://localhost:8080/"
        },
        "outputId": "956ad6d5-967d-43a9-b285-499e60217a50"
      },
      "outputs": [
        {
          "output_type": "stream",
          "name": "stdout",
          "text": [
            "\u001b[K     |████████████████████████████████| 3.6 MB 5.2 MB/s \n",
            "\u001b[K     |████████████████████████████████| 10.1 MB 45.3 MB/s \n",
            "\u001b[K     |████████████████████████████████| 164 kB 67.2 MB/s \n",
            "\u001b[K     |████████████████████████████████| 4.3 MB 46.8 MB/s \n",
            "\u001b[K     |████████████████████████████████| 77 kB 5.1 MB/s \n",
            "\u001b[K     |████████████████████████████████| 111 kB 54.0 MB/s \n",
            "\u001b[K     |████████████████████████████████| 181 kB 60.9 MB/s \n",
            "\u001b[K     |████████████████████████████████| 63 kB 1.3 MB/s \n",
            "\u001b[K     |████████████████████████████████| 131 kB 60.0 MB/s \n",
            "\u001b[K     |████████████████████████████████| 793 kB 59.8 MB/s \n",
            "\u001b[K     |████████████████████████████████| 130 kB 50.0 MB/s \n",
            "\u001b[K     |████████████████████████████████| 428 kB 53.5 MB/s \n",
            "\u001b[K     |████████████████████████████████| 381 kB 48.3 MB/s \n",
            "\u001b[?25h  Building wheel for blinker (setup.py) ... \u001b[?25l\u001b[?25hdone\n",
            "  Building wheel for validators (setup.py) ... \u001b[?25l\u001b[?25hdone\n",
            "\u001b[31mERROR: pip's dependency resolver does not currently take into account all the packages that are installed. This behaviour is the source of the following dependency conflicts.\n",
            "jupyter-console 5.2.0 requires prompt-toolkit<2.0.0,>=1.0.0, but you have prompt-toolkit 3.0.29 which is incompatible.\n",
            "google-colab 1.0.0 requires ipykernel~=4.10, but you have ipykernel 6.13.0 which is incompatible.\n",
            "google-colab 1.0.0 requires ipython~=5.5.0, but you have ipython 7.33.0 which is incompatible.\n",
            "google-colab 1.0.0 requires tornado~=5.1.0; python_version >= \"3.0\", but you have tornado 6.1 which is incompatible.\u001b[0m\n"
          ]
        }
      ],
      "source": [
        "!pip install -q streamlit_ace"
      ]
    },
    {
      "cell_type": "code",
      "execution_count": null,
      "metadata": {
        "colab": {
          "background_save": true,
          "base_uri": "https://localhost:8080/"
        },
        "id": "vtQfTpoAqt5R",
        "outputId": "27e3189b-cebf-450d-a798-6d1e47902975"
      },
      "outputs": [
        {
          "output_type": "stream",
          "name": "stdout",
          "text": [
            "2022-05-24 08:09:07.733 INFO    numexpr.utils: NumExpr defaulting to 2 threads.\n",
            "\u001b[0m\n",
            "\u001b[34m\u001b[1m  You can now view your Streamlit app in your browser.\u001b[0m\n",
            "\u001b[0m\n",
            "\u001b[34m  Network URL: \u001b[0m\u001b[1mhttp://172.28.0.2:8501\u001b[0m\n",
            "\u001b[34m  External URL: \u001b[0m\u001b[1mhttp://34.73.226.253:8501\u001b[0m\n",
            "\u001b[0m\n",
            "\u001b[K\u001b[?25hnpx: installed 22 in 4.699s\n",
            "your url is: https://yellow-ears-repair-34-73-226-253.loca.lt\n"
          ]
        }
      ],
      "source": [
        "# !streamlit run app.py &>/dev/null&\n",
        "!streamlit run app.py & npx localtunnel --port 8501"
      ]
    },
    {
      "cell_type": "code",
      "execution_count": null,
      "metadata": {
        "id": "b-xs2IvrHfis"
      },
      "outputs": [],
      "source": [
        ""
      ]
    }
  ],
  "metadata": {
    "colab": {
      "collapsed_sections": [],
      "name": "InternshipProject.ipynb",
      "provenance": []
    },
    "kernelspec": {
      "display_name": "Python 3",
      "name": "python3"
    },
    "language_info": {
      "name": "python"
    }
  },
  "nbformat": 4,
  "nbformat_minor": 0
}